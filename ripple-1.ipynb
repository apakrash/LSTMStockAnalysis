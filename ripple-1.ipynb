{
 "cells": [
  {
   "cell_type": "code",
   "execution_count": 5,
   "metadata": {
    "collapsed": true
   },
   "outputs": [],
   "source": [
    "import numpy as np\n",
    "import matplotlib.pyplot as plt\n",
    "import pandas as pd\n",
    "\n",
    "# Importing the training set\n",
    "dataset = pd.read_csv('xrp-usd-max.csv')\n",
    "#training_set = dataset_train.iloc[:, 1:2].values #numpy array"
   ]
  },
  {
   "cell_type": "code",
   "execution_count": 6,
   "metadata": {},
   "outputs": [
    {
     "name": "stdout",
     "output_type": "stream",
     "text": [
      "bitcoin-2.ipynb\t\t       fconsumer_StockPrice.ipynb\r\n",
      "bitCoin4AprilToNext57Days.png  googleStockPrice.ipynb\r\n",
      "bitcoin_price.ipynb\t       Google_Stock_Price_Test.csv\r\n",
      "btc-usd-max.csv\t\t       Google_Stock_Price_Train.csv\r\n",
      "fconsumer2010To26May2018.csv   ripple-1.ipynb\r\n",
      "fconsumer-2-Copy1.ipynb        Untitled.ipynb\r\n",
      "fconsumer-2.ipynb\t       xrp-usd-max.csv\r\n",
      "fconsumerStock\r\n"
     ]
    }
   ],
   "source": [
    "!ls"
   ]
  },
  {
   "cell_type": "code",
   "execution_count": 7,
   "metadata": {},
   "outputs": [
    {
     "data": {
      "text/plain": [
       "(1760, 4)"
      ]
     },
     "execution_count": 7,
     "metadata": {},
     "output_type": "execute_result"
    }
   ],
   "source": [
    "dataset.shape"
   ]
  },
  {
   "cell_type": "markdown",
   "metadata": {},
   "source": [
    "### to predict last 60 days price, hence will make a break for 1700 in training and 60 in test set"
   ]
  },
  {
   "cell_type": "code",
   "execution_count": 8,
   "metadata": {
    "collapsed": true,
    "scrolled": true
   },
   "outputs": [],
   "source": [
    "training_set = dataset[0:dataset.shape[0]-60]\n",
    "training_set = training_set.iloc[:, 1:2].values\n",
    "\n",
    "test_set = dataset[dataset.shape[0]-60:dataset.shape[0]]\n",
    "test_set = test_set.iloc[:, 1:2].values"
   ]
  },
  {
   "cell_type": "markdown",
   "metadata": {},
   "source": [
    "## for sigmoid function, normalization is always helpful"
   ]
  },
  {
   "cell_type": "code",
   "execution_count": 9,
   "metadata": {
    "collapsed": true
   },
   "outputs": [],
   "source": [
    "# Feature Scaling\n",
    "from sklearn.preprocessing import MinMaxScaler\n",
    "sc = MinMaxScaler(feature_range = (0, 1))\n",
    "training_set_scaled = sc.fit_transform(training_set)"
   ]
  },
  {
   "cell_type": "markdown",
   "metadata": {},
   "source": [
    "### creating timestep of arrays with 60 day each\n",
    "##### still to check, why it it 60"
   ]
  },
  {
   "cell_type": "code",
   "execution_count": 10,
   "metadata": {
    "collapsed": true
   },
   "outputs": [],
   "source": [
    "# Creating a data structure with 60 timesteps and 1 output\n",
    "X_train = []\n",
    "y_train = []\n",
    "for i in range(60, training_set_scaled.shape[0]):\n",
    "    X_train.append(training_set_scaled[i-60:i, 0])\n",
    "    y_train.append(training_set_scaled[i, 0])\n",
    "X_train, y_train = np.array(X_train), np.array(y_train)\n"
   ]
  },
  {
   "cell_type": "code",
   "execution_count": 11,
   "metadata": {
    "collapsed": true
   },
   "outputs": [],
   "source": [
    "# Reshaping\n",
    "X_train = np.reshape(X_train, (X_train.shape[0], X_train.shape[1], 1))\n"
   ]
  },
  {
   "cell_type": "code",
   "execution_count": 12,
   "metadata": {},
   "outputs": [
    {
     "name": "stderr",
     "output_type": "stream",
     "text": [
      "/home/qwerty/anaconda3/lib/python3.6/site-packages/h5py/__init__.py:34: FutureWarning: Conversion of the second argument of issubdtype from `float` to `np.floating` is deprecated. In future, it will be treated as `np.float64 == np.dtype(float).type`.\n",
      "  from ._conv import register_converters as _register_converters\n",
      "Using TensorFlow backend.\n"
     ]
    }
   ],
   "source": [
    "# Importing the Keras libraries and packages\n",
    "from keras.models import Sequential\n",
    "from keras.layers import Dense\n",
    "from keras.layers import LSTM\n",
    "from keras.layers import Dropout"
   ]
  },
  {
   "cell_type": "code",
   "execution_count": 13,
   "metadata": {
    "collapsed": true
   },
   "outputs": [],
   "source": [
    "# Initialising the RNN\n",
    "regressor = Sequential()"
   ]
  },
  {
   "cell_type": "code",
   "execution_count": 14,
   "metadata": {
    "collapsed": true
   },
   "outputs": [],
   "source": [
    "# Adding the first LSTM layer and some Dropout regularisation\n",
    "\n",
    "#units is the number of neurons in the layer\n",
    "#since the o/p of this layer will be feeded to the next layer, hence return_sequence is True\n",
    "#input shape is the same for the reshape\n",
    "regressor.add(LSTM(units = 50, return_sequences = True, input_shape = (X_train.shape[1], 1)))\n",
    "\n",
    "#20 percent dropping out\n",
    "regressor.add(Dropout(0.2))\n",
    "\n",
    "# Adding a second LSTM layer and some Dropout regularisation\n",
    "#input_shape is not needed here\n",
    "\n",
    "regressor.add(LSTM(units = 50, return_sequences = True))\n",
    "regressor.add(Dropout(0.2))\n",
    "\n",
    "\n",
    "# Adding a third LSTM layer and some Dropout regularisation\n",
    "regressor.add(LSTM(units = 50, return_sequences = True))\n",
    "regressor.add(Dropout(0.2))\n",
    "\n",
    "\n",
    "# Adding a fourth LSTM layer and some Dropout regularisation\n",
    "regressor.add(LSTM(units = 50))\n",
    "regressor.add(Dropout(0.2))\n",
    "\n",
    "# Adding the output layer\n",
    "regressor.add(Dense(units = 1))\n",
    "\n",
    "# Compiling the RNN\n",
    "regressor.compile(optimizer = 'adam', loss = 'mean_squared_error')"
   ]
  },
  {
   "cell_type": "code",
   "execution_count": 15,
   "metadata": {
    "scrolled": false
   },
   "outputs": [
    {
     "name": "stdout",
     "output_type": "stream",
     "text": [
      "Epoch 1/100\n",
      "1640/1640 [==============================] - 15s 9ms/step - loss: 0.0063\n",
      "Epoch 2/100\n",
      "1640/1640 [==============================] - 12s 7ms/step - loss: 0.0027\n",
      "Epoch 3/100\n",
      "1640/1640 [==============================] - 12s 7ms/step - loss: 0.0023\n",
      "Epoch 4/100\n",
      "1640/1640 [==============================] - 12s 7ms/step - loss: 0.0016\n",
      "Epoch 5/100\n",
      "1640/1640 [==============================] - 12s 7ms/step - loss: 0.0014\n",
      "Epoch 6/100\n",
      "1640/1640 [==============================] - 12s 7ms/step - loss: 0.0016\n",
      "Epoch 7/100\n",
      "1640/1640 [==============================] - 12s 7ms/step - loss: 0.0013\n",
      "Epoch 8/100\n",
      "1640/1640 [==============================] - ETA: 0s - loss: 0.001 - 12s 8ms/step - loss: 0.0012\n",
      "Epoch 9/100\n",
      "1640/1640 [==============================] - 12s 7ms/step - loss: 0.0015\n",
      "Epoch 10/100\n",
      "1640/1640 [==============================] - 12s 7ms/step - loss: 0.0014\n",
      "Epoch 11/100\n",
      "1640/1640 [==============================] - 12s 7ms/step - loss: 9.6630e-04\n",
      "Epoch 12/100\n",
      "1640/1640 [==============================] - 12s 7ms/step - loss: 0.0013\n",
      "Epoch 13/100\n",
      "1640/1640 [==============================] - 12s 7ms/step - loss: 8.2177e-04\n",
      "Epoch 14/100\n",
      "1640/1640 [==============================] - 15s 9ms/step - loss: 0.0015\n",
      "Epoch 15/100\n",
      "1640/1640 [==============================] - 14s 8ms/step - loss: 0.0016\n",
      "Epoch 16/100\n",
      "1640/1640 [==============================] - 12s 7ms/step - loss: 8.9820e-04\n",
      "Epoch 17/100\n",
      "1640/1640 [==============================] - 13s 8ms/step - loss: 8.3661e-04\n",
      "Epoch 18/100\n",
      "1640/1640 [==============================] - 12s 7ms/step - loss: 8.3518e-04\n",
      "Epoch 19/100\n",
      "1640/1640 [==============================] - 12s 7ms/step - loss: 8.7879e-04\n",
      "Epoch 20/100\n",
      "1640/1640 [==============================] - 12s 7ms/step - loss: 8.9678e-04\n",
      "Epoch 21/100\n",
      "1640/1640 [==============================] - 15s 9ms/step - loss: 6.1214e-04\n",
      "Epoch 22/100\n",
      "1640/1640 [==============================] - 14s 8ms/step - loss: 6.9307e-04\n",
      "Epoch 23/100\n",
      "1640/1640 [==============================] - 13s 8ms/step - loss: 5.7323e-04\n",
      "Epoch 24/100\n",
      "1640/1640 [==============================] - 12s 7ms/step - loss: 5.5939e-04\n",
      "Epoch 25/100\n",
      "1640/1640 [==============================] - 12s 8ms/step - loss: 8.9968e-04\n",
      "Epoch 26/100\n",
      "1640/1640 [==============================] - 12s 7ms/step - loss: 6.9442e-04\n",
      "Epoch 27/100\n",
      "1640/1640 [==============================] - 12s 8ms/step - loss: 5.7266e-04\n",
      "Epoch 28/100\n",
      "1640/1640 [==============================] - 12s 7ms/step - loss: 4.2878e-04\n",
      "Epoch 29/100\n",
      "1640/1640 [==============================] - 12s 7ms/step - loss: 5.9187e-04\n",
      "Epoch 30/100\n",
      "1640/1640 [==============================] - 12s 7ms/step - loss: 6.9445e-04\n",
      "Epoch 31/100\n",
      "1640/1640 [==============================] - 12s 7ms/step - loss: 4.7994e-04\n",
      "Epoch 32/100\n",
      "1640/1640 [==============================] - 12s 7ms/step - loss: 6.1032e-04\n",
      "Epoch 33/100\n",
      "1640/1640 [==============================] - 12s 7ms/step - loss: 5.8251e-04\n",
      "Epoch 34/100\n",
      "1640/1640 [==============================] - 12s 7ms/step - loss: 7.0654e-04\n",
      "Epoch 35/100\n",
      "1640/1640 [==============================] - 12s 7ms/step - loss: 7.1080e-04\n",
      "Epoch 36/100\n",
      "1640/1640 [==============================] - 12s 7ms/step - loss: 6.2665e-04\n",
      "Epoch 37/100\n",
      "1640/1640 [==============================] - 12s 8ms/step - loss: 7.5570e-04\n",
      "Epoch 38/100\n",
      "1640/1640 [==============================] - 12s 7ms/step - loss: 8.2625e-04\n",
      "Epoch 39/100\n",
      "1640/1640 [==============================] - 12s 8ms/step - loss: 5.5422e-04\n",
      "Epoch 40/100\n",
      "1640/1640 [==============================] - 12s 8ms/step - loss: 5.4165e-04\n",
      "Epoch 41/100\n",
      "1640/1640 [==============================] - 12s 7ms/step - loss: 6.5619e-04\n",
      "Epoch 42/100\n",
      "1640/1640 [==============================] - 12s 7ms/step - loss: 4.5688e-04\n",
      "Epoch 43/100\n",
      "1640/1640 [==============================] - 12s 8ms/step - loss: 4.6638e-04\n",
      "Epoch 44/100\n",
      "1640/1640 [==============================] - 12s 8ms/step - loss: 6.9403e-04\n",
      "Epoch 45/100\n",
      "1640/1640 [==============================] - 13s 8ms/step - loss: 6.0230e-04\n",
      "Epoch 46/100\n",
      "1640/1640 [==============================] - 13s 8ms/step - loss: 5.7317e-04\n",
      "Epoch 47/100\n",
      "1640/1640 [==============================] - 12s 7ms/step - loss: 6.6391e-04\n",
      "Epoch 48/100\n",
      "1640/1640 [==============================] - 12s 7ms/step - loss: 5.6748e-04\n",
      "Epoch 49/100\n",
      "1640/1640 [==============================] - 12s 7ms/step - loss: 4.1805e-04\n",
      "Epoch 50/100\n",
      "1640/1640 [==============================] - 12s 8ms/step - loss: 5.1739e-04\n",
      "Epoch 51/100\n",
      "1640/1640 [==============================] - 12s 7ms/step - loss: 4.4037e-04\n",
      "Epoch 52/100\n",
      "1640/1640 [==============================] - 12s 7ms/step - loss: 6.1097e-04\n",
      "Epoch 53/100\n",
      "1640/1640 [==============================] - 12s 8ms/step - loss: 5.7897e-04\n",
      "Epoch 54/100\n",
      "1640/1640 [==============================] - 12s 8ms/step - loss: 4.2398e-04\n",
      "Epoch 55/100\n",
      "1640/1640 [==============================] - 13s 8ms/step - loss: 5.0482e-04\n",
      "Epoch 56/100\n",
      "1640/1640 [==============================] - 14s 9ms/step - loss: 4.4324e-04\n",
      "Epoch 57/100\n",
      "1640/1640 [==============================] - 14s 9ms/step - loss: 4.7268e-04\n",
      "Epoch 58/100\n",
      "1640/1640 [==============================] - 13s 8ms/step - loss: 5.1943e-04\n",
      "Epoch 59/100\n",
      "1640/1640 [==============================] - 13s 8ms/step - loss: 3.7615e-04\n",
      "Epoch 60/100\n",
      "1640/1640 [==============================] - 12s 8ms/step - loss: 5.8397e-04\n",
      "Epoch 61/100\n",
      "1640/1640 [==============================] - 12s 8ms/step - loss: 5.5052e-04\n",
      "Epoch 62/100\n",
      "1640/1640 [==============================] - 13s 8ms/step - loss: 5.6247e-04\n",
      "Epoch 63/100\n",
      "1640/1640 [==============================] - 13s 8ms/step - loss: 5.2394e-04\n",
      "Epoch 64/100\n",
      "1640/1640 [==============================] - 12s 8ms/step - loss: 5.0375e-04\n",
      "Epoch 65/100\n",
      "1640/1640 [==============================] - 13s 8ms/step - loss: 6.4777e-04\n",
      "Epoch 66/100\n",
      "1640/1640 [==============================] - 12s 8ms/step - loss: 5.3600e-04\n",
      "Epoch 67/100\n",
      "1640/1640 [==============================] - 12s 7ms/step - loss: 6.2350e-04\n",
      "Epoch 68/100\n",
      "1640/1640 [==============================] - 12s 8ms/step - loss: 4.8526e-04\n",
      "Epoch 69/100\n",
      "1640/1640 [==============================] - 12s 8ms/step - loss: 7.6169e-04\n",
      "Epoch 70/100\n",
      "1640/1640 [==============================] - 13s 8ms/step - loss: 5.1332e-04\n",
      "Epoch 71/100\n",
      "1640/1640 [==============================] - 13s 8ms/step - loss: 4.2586e-04\n",
      "Epoch 72/100\n",
      "1640/1640 [==============================] - 15s 9ms/step - loss: 5.6398e-04\n",
      "Epoch 73/100\n",
      "1640/1640 [==============================] - 13s 8ms/step - loss: 4.8761e-04\n",
      "Epoch 74/100\n",
      "1640/1640 [==============================] - 12s 8ms/step - loss: 4.5530e-04\n",
      "Epoch 75/100\n",
      "1640/1640 [==============================] - 13s 8ms/step - loss: 5.1772e-04\n",
      "Epoch 76/100\n",
      "1640/1640 [==============================] - 12s 8ms/step - loss: 5.8612e-04\n",
      "Epoch 77/100\n",
      "1640/1640 [==============================] - 13s 8ms/step - loss: 4.9340e-04\n",
      "Epoch 78/100\n",
      "1640/1640 [==============================] - 12s 8ms/step - loss: 4.8886e-04\n",
      "Epoch 79/100\n",
      "1640/1640 [==============================] - 12s 8ms/step - loss: 4.5105e-04\n",
      "Epoch 80/100\n",
      "1640/1640 [==============================] - 12s 8ms/step - loss: 4.7631e-04\n",
      "Epoch 81/100\n",
      "1640/1640 [==============================] - 12s 8ms/step - loss: 5.7233e-04\n",
      "Epoch 82/100\n",
      "1640/1640 [==============================] - 12s 8ms/step - loss: 4.7766e-04\n",
      "Epoch 83/100\n",
      "1640/1640 [==============================] - 13s 8ms/step - loss: 4.3005e-04\n",
      "Epoch 84/100\n",
      "1640/1640 [==============================] - 13s 8ms/step - loss: 4.9146e-04\n",
      "Epoch 85/100\n",
      "1640/1640 [==============================] - 12s 8ms/step - loss: 5.0221e-04\n",
      "Epoch 86/100\n",
      "1640/1640 [==============================] - 13s 8ms/step - loss: 4.0322e-04\n",
      "Epoch 87/100\n",
      "1640/1640 [==============================] - 12s 8ms/step - loss: 3.6381e-04\n",
      "Epoch 88/100\n",
      "1640/1640 [==============================] - 13s 8ms/step - loss: 4.4689e-04\n",
      "Epoch 89/100\n",
      "1640/1640 [==============================] - 12s 8ms/step - loss: 5.0821e-04\n",
      "Epoch 90/100\n",
      "1640/1640 [==============================] - 12s 8ms/step - loss: 4.9084e-04\n",
      "Epoch 91/100\n",
      "1640/1640 [==============================] - 13s 8ms/step - loss: 4.1478e-04\n",
      "Epoch 92/100\n"
     ]
    },
    {
     "name": "stdout",
     "output_type": "stream",
     "text": [
      "1640/1640 [==============================] - 12s 8ms/step - loss: 4.4952e-04\n",
      "Epoch 93/100\n",
      "1640/1640 [==============================] - 13s 8ms/step - loss: 3.6316e-04\n",
      "Epoch 94/100\n",
      "1640/1640 [==============================] - 13s 8ms/step - loss: 4.2875e-04\n",
      "Epoch 95/100\n",
      "1640/1640 [==============================] - 12s 8ms/step - loss: 4.1750e-04\n",
      "Epoch 96/100\n",
      "1640/1640 [==============================] - 12s 8ms/step - loss: 4.8984e-04\n",
      "Epoch 97/100\n",
      "1640/1640 [==============================] - 13s 8ms/step - loss: 3.9489e-04\n",
      "Epoch 98/100\n",
      "1640/1640 [==============================] - 12s 8ms/step - loss: 5.2801e-04\n",
      "Epoch 99/100\n",
      "1640/1640 [==============================] - 12s 8ms/step - loss: 4.8928e-04\n",
      "Epoch 100/100\n",
      "1640/1640 [==============================] - 13s 8ms/step - loss: 6.4430e-04\n"
     ]
    },
    {
     "data": {
      "text/plain": [
       "<keras.callbacks.History at 0x7f214ccc77f0>"
      ]
     },
     "execution_count": 15,
     "metadata": {},
     "output_type": "execute_result"
    }
   ],
   "source": [
    "# Fitting the RNN to the Training set\n",
    "\n",
    "#number of epochs is an experimental feature.\n",
    "\n",
    "regressor.fit(X_train, y_train, epochs = 100, batch_size = 32)\n"
   ]
  },
  {
   "cell_type": "code",
   "execution_count": 19,
   "metadata": {},
   "outputs": [
    {
     "data": {
      "image/png": "[encoded data removed]",
      "text/plain": [
       "<matplotlib.figure.Figure at 0x7f2122f68b00>"
      ]
     },
     "metadata": {},
     "output_type": "display_data"
    }
   ],
   "source": [
    "real_stock_price = test_set\n",
    "\n",
    "inputs = dataset[len(dataset) - len(test_set) - 60:].iloc[:,1:2].values\n",
    "inputs = inputs.reshape(-1,1)\n",
    "inputs = sc.transform(inputs)\n",
    "X_test = []\n",
    "for i in range(60, 60+test_set.shape[0]):\n",
    "    X_test.append(inputs[i-60:i, 0])\n",
    "X_test = np.array(X_test)\n",
    "X_test = np.reshape(X_test, (X_test.shape[0], X_test.shape[1], 1))\n",
    "\n",
    "predicted_stock_price = regressor.predict(X_test)\n",
    "predicted_stock_price = sc.inverse_transform(predicted_stock_price)\n",
    "\n",
    "# Visualising the results\n",
    "plt.plot(real_stock_price, color = 'red', label = 'Real Stock Price')\n",
    "plt.plot(predicted_stock_price, color = 'blue', label = 'Predicted Stock Price')\n",
    "plt.title('Ripple Stock Price Prediction')\n",
    "plt.xlabel('Time starting April 5th for next 60 days')\n",
    "plt.ylabel('Stock Price')\n",
    "plt.legend()\n",
    "plt.show()"
   ]
  },
  {
   "cell_type": "code",
   "execution_count": 17,
   "metadata": {},
   "outputs": [
    {
     "data": {
      "text/plain": [
       "snapped_at      2018-04-05 00:00:00 UTC\n",
       "price                          0.502687\n",
       "market_cap                  1.96523e+10\n",
       "total_volume                4.19147e+08\n",
       "Name: 1700, dtype: object"
      ]
     },
     "execution_count": 17,
     "metadata": {},
     "output_type": "execute_result"
    }
   ],
   "source": [
    "dataset.iloc[1700]"
   ]
  },
  {
   "cell_type": "code",
   "execution_count": null,
   "metadata": {
    "collapsed": true
   },
   "outputs": [],
   "source": []
  }
 ],
 "metadata": {
  "kernelspec": {
   "display_name": "Python 3",
   "language": "python",
   "name": "python3"
  },
  "language_info": {
   "codemirror_mode": {
    "name": "ipython",
    "version": 3
   },
   "file_extension": ".py",
   "mimetype": "text/x-python",
   "name": "python",
   "nbconvert_exporter": "python",
   "pygments_lexer": "ipython3",
   "version": "3.6.3"
  }
 },
 "nbformat": 4,
 "nbformat_minor": 2
}
